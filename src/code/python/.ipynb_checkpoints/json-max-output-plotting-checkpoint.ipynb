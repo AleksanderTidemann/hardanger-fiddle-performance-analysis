{
 "cells": [
  {
   "cell_type": "code",
   "execution_count": 160,
   "metadata": {},
   "outputs": [],
   "source": [
    "import pandas as pd\n",
    "import numpy as np\n",
    "import json\n",
    "import matplotlib\n",
    "import matplotlib.pyplot as plt"
   ]
  },
  {
   "cell_type": "markdown",
   "metadata": {},
   "source": [
    "# Load the json/dictionary data"
   ]
  },
  {
   "cell_type": "code",
   "execution_count": 200,
   "metadata": {},
   "outputs": [],
   "source": [
    "data = \"C:\\\\Users\\\\aleks\\\\Documents\\\\GitHub\\\\thesis\\\\src\\\\export-data\\\\vrenga-short.json\"\n",
    "with open(data, 'r') as f:\n",
    "    track_data = json.load(f)"
   ]
  },
  {
   "cell_type": "markdown",
   "metadata": {},
   "source": [
    "# Simple 2D Plot of Beat Ratios"
   ]
  },
  {
   "cell_type": "code",
   "execution_count": 205,
   "metadata": {},
   "outputs": [],
   "source": [
    "filename = list(track_data)[0]\n",
    "key_dict = track_data[filename][\"ratios\"][\"beat_ratios\"]"
   ]
  },
  {
   "cell_type": "code",
   "execution_count": 206,
   "metadata": {},
   "outputs": [],
   "source": [
    "def plotting_beat_ratios(from_beat, to_beat):\n",
    "    fig, ax = plt.subplots()\n",
    "    width = 0.2  # the width of the bars\n",
    "\n",
    "    labels = []\n",
    "    beat1 = []\n",
    "    beat2 = []\n",
    "    beat3 = []\n",
    "\n",
    "    for i, beat in enumerate(list(key_dict.values())):\n",
    "        if i>=(from_beat-1) and i<(to_beat):\n",
    "            beat1.append(beat[0])\n",
    "            beat2.append(beat[1])\n",
    "            beat3.append(beat[2])\n",
    "            labels.append(list(key_dict)[i])\n",
    "    \n",
    "    x = np.arange(len(labels))  # the label locations\n",
    "\n",
    "    ax.bar(x - width, beat1, width, label='beat1')\n",
    "    ax.bar(x, beat2, width, label='beat2')\n",
    "    ax.bar(x + width, beat3, width, label='beat3')\n",
    "\n",
    "    ax.set_ylabel('Percentage (%)')\n",
    "    ax.set_title('Beat Ratios')\n",
    "    ax.set_xticks(x)\n",
    "    ax.set_xticklabels(labels)\n",
    "    ax.legend()\n",
    "    \n",
    "    fig.tight_layout()\n",
    "    return fig"
   ]
  },
  {
   "cell_type": "markdown",
   "metadata": {},
   "source": [
    "We can plot multiple sections/patterns of Beat Ratios as well"
   ]
  },
  {
   "cell_type": "code",
   "execution_count": 211,
   "metadata": {},
   "outputs": [
    {
     "data": {
      "image/png": "[encoded data removed]",
      "text/plain": [
       "<Figure size 432x288 with 1 Axes>"
      ]
     },
     "metadata": {
      "needs_background": "light"
     },
     "output_type": "display_data"
    },
    {
     "data": {
      "image/png": "[encoded data removed]",
      "text/plain": [
       "<Figure size 432x288 with 1 Axes>"
      ]
     },
     "metadata": {
      "needs_background": "light"
     },
     "output_type": "display_data"
    }
   ],
   "source": [
    "fig1 = plotting_beat_ratios(1, 5)\n",
    "\n",
    "#fig2 = plotting_beat_ratios(14, 16)"
   ]
  },
  {
   "cell_type": "markdown",
   "metadata": {},
   "source": [
    "## Plot the beat ratios of specifc harmonic patterns "
   ]
  },
  {
   "cell_type": "code",
   "execution_count": 216,
   "metadata": {},
   "outputs": [],
   "source": [
    "#updated function\n",
    "def plotting_harm_pattr_beat(pattern):\n",
    "    # create a plot\n",
    "    fig, ax = plt.subplots()\n",
    "    \n",
    "    # the width of the bars\n",
    "    width = 0.2\n",
    "    \n",
    "    # collect all the relevant bar numbers\n",
    "    harm_pattr_beats = []\n",
    "    for i in range(len(pattern)):\n",
    "        if i%2 == 0:\n",
    "            if i != (len(pattern)-1):\n",
    "                count = pattern[i]\n",
    "                while count <= pattern[i+1]:\n",
    "                    harm_pattr_beats.append(count)\n",
    "                    count += 1\n",
    "            else:\n",
    "                harm_pattr_beats.append(pattern[i])\n",
    "                break\n",
    "\n",
    "    labels = []\n",
    "    beat1 = []\n",
    "    beat2 = []\n",
    "    beat3 = []\n",
    "\n",
    "    for i, beat in enumerate(list(key_dict.values())):\n",
    "        if i+1 in harm_pattr_beats:\n",
    "            beat1.append(beat[0])\n",
    "            beat2.append(beat[1])\n",
    "            beat3.append(beat[2])\n",
    "            labels.append(list(key_dict)[i])\n",
    "    \n",
    "    x = np.arange(len(labels))  # the label locations\n",
    "\n",
    "    ax.bar(x - width, beat1, width, label='beat1')\n",
    "    ax.bar(x, beat2, width, label='beat2')\n",
    "    ax.bar(x + width, beat3, width, label='beat3')\n",
    "\n",
    "    ax.set_ylabel('Percentage (%)')\n",
    "    ax.set_title('Beat Ratios')\n",
    "    ax.set_xticks(x)\n",
    "    ax.set_xticklabels(labels)\n",
    "    ax.legend()\n",
    "    \n",
    "    fig.tight_layout()\n",
    "    return fig"
   ]
  },
  {
   "cell_type": "code",
   "execution_count": 217,
   "metadata": {},
   "outputs": [],
   "source": [
    "#Harmonic pattern examples from the dict \n",
    "harmonic_pattern = [1, 3, 4, 6]\n",
    "harmonic_pattern2 = [1, 1, 4, 4, 7, 7, 12, 12]\n",
    "harmonic_pattern3 = [2, 3, 5, 6, 10, 11, 15, 16]"
   ]
  },
  {
   "cell_type": "code",
   "execution_count": 219,
   "metadata": {},
   "outputs": [
    {
     "data": {
      "image/png": "[encoded data removed]",
      "text/plain": [
       "<Figure size 432x288 with 1 Axes>"
      ]
     },
     "metadata": {
      "needs_background": "light"
     },
     "output_type": "display_data"
    }
   ],
   "source": [
    "fig1 = plotting_harm_pattr_beat(harmonic_pattern)"
   ]
  }
 ],
 "metadata": {
  "kernelspec": {
   "display_name": "Python 3",
   "language": "python",
   "name": "python3"
  },
  "language_info": {
   "codemirror_mode": {
    "name": "ipython",
    "version": 3
   },
   "file_extension": ".py",
   "mimetype": "text/x-python",
   "name": "python",
   "nbconvert_exporter": "python",
   "pygments_lexer": "ipython3",
   "version": "3.7.6"
  }
 },
 "nbformat": 4,
 "nbformat_minor": 4
}
