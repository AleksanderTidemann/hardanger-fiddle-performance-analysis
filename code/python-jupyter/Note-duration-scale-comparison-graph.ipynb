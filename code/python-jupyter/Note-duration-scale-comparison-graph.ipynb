{
 "cells": [
  {
   "cell_type": "code",
   "execution_count": 1,
   "metadata": {},
   "outputs": [],
   "source": [
    "import pandas as pd\n",
    "import numpy as np\n",
    "import json\n",
    "import matplotlib\n",
    "import matplotlib.pyplot as plt\n",
    "import seaborn as sns"
   ]
  },
  {
   "cell_type": "code",
   "execution_count": 10,
   "metadata": {},
   "outputs": [],
   "source": [
    "# Import\n",
    "\n",
    "data = \"C:\\\\Users\\\\aleks\\\\Desktop\\\\Vrengja1.json\"\n",
    "with open(data, 'r') as f:\n",
    "    track_data = json.load(f)\n",
    "    \n",
    "filename = list(track_data)[0]\n",
    "noteDurs = track_data[filename][\"ratios\"][\"note_duration_ratios\"]\n",
    "scaleFactor = 10\n",
    "\n",
    "r = [16, 22]"
   ]
  },
  {
   "cell_type": "code",
   "execution_count": 11,
   "metadata": {},
   "outputs": [],
   "source": [
    "def scaleToNearestN(value, sf):\n",
    "    if sf > 0:\n",
    "        rest = value%sf\n",
    "        if rest <= (sf/2):\n",
    "            if (value-rest == 0):\n",
    "                return 1\n",
    "            else:\n",
    "                return value-rest\n",
    "        else:\n",
    "            return (value+sf)-rest\n",
    "    else:\n",
    "        return value"
   ]
  },
  {
   "cell_type": "code",
   "execution_count": 12,
   "metadata": {},
   "outputs": [],
   "source": [
    "# Reformat data\n",
    "\n",
    "ORG_flatten_noteDurs = []\n",
    "MOD_flatten_noteDurs = []\n",
    "noteLabels = []\n",
    "\n",
    "count = 0\n",
    "for i, sub in enumerate(list(noteDurs.values())):\n",
    "    if type(sub) is not list:\n",
    "        count += 1\n",
    "        ORG_flatten_noteDurs.append(sub)\n",
    "        MOD_flatten_noteDurs.append(scaleToNearestN(sub, scaleFactor))\n",
    "        noteLabels.append(\"note\"+str(count)) \n",
    "    else:\n",
    "        for j in list(sub):\n",
    "            count += 1\n",
    "            ORG_flatten_noteDurs.append(j)\n",
    "            MOD_flatten_noteDurs.append(scaleToNearestN(j, scaleFactor))\n",
    "            noteLabels.append(\"note\"+str(count))"
   ]
  },
  {
   "cell_type": "code",
   "execution_count": 15,
   "metadata": {},
   "outputs": [
    {
     "data": {
      "text/plain": [
       "<matplotlib.legend.Legend at 0x20b9b9c1c88>"
      ]
     },
     "execution_count": 15,
     "metadata": {},
     "output_type": "execute_result"
    },
    {
     "data": {
      "image/png": "[encoded data removed]",
      "text/plain": [
       "<Figure size 1152x648 with 1 Axes>"
      ]
     },
     "metadata": {
      "needs_background": "light"
     },
     "output_type": "display_data"
    }
   ],
   "source": [
    "fig, ax = plt.subplots()\n",
    "width = 0.35  # the width of the bars\n",
    "\n",
    "# the label locations\n",
    "x = np.arange(len(noteLabels[r[0]:r[1]]))\n",
    "\n",
    "ax.bar(x - (width/2), ORG_flatten_noteDurs[r[0]:r[1]], width, label='Original')\n",
    "ax.bar(x + (width/2), MOD_flatten_noteDurs[r[0]:r[1]], width, label='Scaled', color=\"red\")\n",
    "\n",
    "# text\n",
    "#for i, v in enumerate(ORG_flatten_noteDurs[r[0]:r[1]]):\n",
    "#    ax.text(i, v + 3, \"hello\")\n",
    "\n",
    "fig.set_figheight(9)\n",
    "fig.set_figwidth(16)\n",
    "\n",
    "ax.set_ylabel('Note Duration Ratios (%)', fontsize=16)\n",
    "ax.set_xticks(x)\n",
    "ax.set_xticklabels(noteLabels[r[0]:r[1]], fontsize=16)\n",
    "#ax.set_title('Note durations')\n",
    "\n",
    "ax.grid()\n",
    "ax.legend(fontsize=16)"
   ]
  },
  {
   "cell_type": "code",
   "execution_count": 17,
   "metadata": {},
   "outputs": [],
   "source": [
    "fig.savefig('scaling-features-plot-factor10.jpg')"
   ]
  },
  {
   "cell_type": "code",
   "execution_count": null,
   "metadata": {},
   "outputs": [],
   "source": []
  }
 ],
 "metadata": {
  "kernelspec": {
   "display_name": "Python 3",
   "language": "python",
   "name": "python3"
  },
  "language_info": {
   "codemirror_mode": {
    "name": "ipython",
    "version": 3
   },
   "file_extension": ".py",
   "mimetype": "text/x-python",
   "name": "python",
   "nbconvert_exporter": "python",
   "pygments_lexer": "ipython3",
   "version": "3.7.6"
  }
 },
 "nbformat": 4,
 "nbformat_minor": 4
}
